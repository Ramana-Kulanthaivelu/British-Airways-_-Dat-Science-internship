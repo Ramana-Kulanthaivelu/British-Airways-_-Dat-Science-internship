{
 "cells": [
  {
   "cell_type": "code",
   "execution_count": 4,
   "id": "8573c5e2",
   "metadata": {},
   "outputs": [],
   "source": [
    "import pandas as pd\n",
    "from bs4 import BeautifulSoup\n",
    "import requests "
   ]
  },
  {
   "cell_type": "code",
   "execution_count": 5,
   "id": "1688ea23",
   "metadata": {},
   "outputs": [],
   "source": [
    "# Lists to collect data\n",
    "reviews = []\n",
    "stars = []\n",
    "date = []\n",
    "country = []"
   ]
  },
  {
   "cell_type": "code",
   "execution_count": 6,
   "id": "925f6539",
   "metadata": {},
   "outputs": [],
   "source": [
    "# Scrape data from multiple pages\n",
    "for i in range(1, 36):\n",
    "    url = f\"https://www.airlinequality.com/airline-reviews/british-airways/page/{i}/?sortby=post_date%3ADesc&pagesize=100\"\n",
    "    page = requests.get(url)\n",
    "    soup = BeautifulSoup(page.content, \"html.parser\")\n",
    "    \n",
    "    # Extract review details\n",
    "    for item in soup.find_all(\"div\", class_=\"text_content\"):\n",
    "        reviews.append(item.text.strip())\n",
    "    \n",
    "    for item in soup.find_all(\"div\", class_=\"rating-10\"):\n",
    "        stars.append(item.span.text.strip() if item.span else \"None\")  # Handle missing star ratings\n",
    "    \n",
    "    for item in soup.find_all(\"time\"):\n",
    "        date.append(item.text.strip())\n",
    "        \n",
    "    for item in soup.find_all(\"h3\"):\n",
    "        country.append(item.span.next_sibling.text.strip(\" ()\"))"
   ]
  },
  {
   "cell_type": "code",
   "execution_count": 8,
   "id": "552cd5cf",
   "metadata": {},
   "outputs": [
    {
     "name": "stdout",
     "output_type": "stream",
     "text": [
      "3500\n",
      "3535\n",
      "3500\n",
      "3500\n"
     ]
    }
   ],
   "source": [
    "print(len(reviews))\n",
    "print(len(stars))\n",
    "print(len(country))\n",
    "print(len(date))"
   ]
  },
  {
   "cell_type": "code",
   "execution_count": 9,
   "id": "d6802897",
   "metadata": {},
   "outputs": [
    {
     "data": {
      "text/plain": [
       "3500"
      ]
     },
     "execution_count": 9,
     "metadata": {},
     "output_type": "execute_result"
    }
   ],
   "source": [
    "#check the length of total reviews extracted\n",
    "len(reviews)"
   ]
  },
  {
   "cell_type": "code",
   "execution_count": 10,
   "id": "c056868c",
   "metadata": {},
   "outputs": [],
   "source": [
    "# Trim stars list to match reviews' length\n",
    "stars = stars[:len(reviews)]"
   ]
  },
  {
   "cell_type": "code",
   "execution_count": 11,
   "id": "b844a5ba",
   "metadata": {},
   "outputs": [],
   "source": [
    "# Create DataFrame\n",
    "df = pd.DataFrame({\n",
    "    'reviews': reviews,\n",
    "    'stars': stars,\n",
    "    'date': date,\n",
    "    'country': country\n",
    "})"
   ]
  },
  {
   "cell_type": "code",
   "execution_count": 12,
   "id": "ddca60d8",
   "metadata": {},
   "outputs": [
    {
     "name": "stdout",
     "output_type": "stream",
     "text": [
      "                                             reviews stars             date  \\\n",
      "0  Not Verified | I wanted to write this review s...     5   7th April 2024   \n",
      "1  ✅ Trip Verified |  Check in fast and friendly....    10   3rd April 2024   \n",
      "2  ✅ Trip Verified |  This is the first time I ha...     7   2nd April 2024   \n",
      "3  ✅ Trip Verified |  Flew business class from Do...     3   2nd April 2024   \n",
      "4  ✅ Trip Verified |  Starting off at Heathrow Te...     4  28th March 2024   \n",
      "\n",
      "          country  \n",
      "0   United States  \n",
      "1  United Kingdom  \n",
      "2  United Kingdom  \n",
      "3  United Kingdom  \n",
      "4  United Kingdom  \n"
     ]
    }
   ],
   "source": [
    "# Display DataFrame's head\n",
    "print(df.head())"
   ]
  },
  {
   "cell_type": "code",
   "execution_count": null,
   "id": "a77b9812",
   "metadata": {},
   "outputs": [],
   "source": [
    "# Export DataFrame to CSV\n",
    "df.to_csv(\"BA_reviews.csv\", index=False)"
   ]
  }
 ],
 "metadata": {
  "kernelspec": {
   "display_name": "Python 3 (ipykernel)",
   "language": "python",
   "name": "python3"
  },
  "language_info": {
   "codemirror_mode": {
    "name": "ipython",
    "version": 3
   },
   "file_extension": ".py",
   "mimetype": "text/x-python",
   "name": "python",
   "nbconvert_exporter": "python",
   "pygments_lexer": "ipython3",
   "version": "3.11.4"
  }
 },
 "nbformat": 4,
 "nbformat_minor": 5
}
